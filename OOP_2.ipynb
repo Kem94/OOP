{
 "cells": [
  {
   "cell_type": "markdown",
   "id": "74a549e1",
   "metadata": {},
   "source": [
    "# Object Oriented Programming"
   ]
  },
  {
   "cell_type": "code",
   "execution_count": 1,
   "id": "43798046",
   "metadata": {},
   "outputs": [],
   "source": [
    "class Employee:\n",
    "    salary = 350000"
   ]
  },
  {
   "cell_type": "code",
   "execution_count": 3,
   "id": "67dcf617",
   "metadata": {},
   "outputs": [
    {
     "name": "stdout",
     "output_type": "stream",
     "text": [
      "350000\n"
     ]
    }
   ],
   "source": [
    "Kemi = Employee()\n",
    "\n",
    "print(Kemi.salary)"
   ]
  },
  {
   "cell_type": "code",
   "execution_count": 4,
   "id": "ccec710f",
   "metadata": {},
   "outputs": [
    {
     "data": {
      "text/plain": [
       "350000"
      ]
     },
     "execution_count": 4,
     "metadata": {},
     "output_type": "execute_result"
    }
   ],
   "source": [
    "Kemi.salary"
   ]
  },
  {
   "cell_type": "code",
   "execution_count": 13,
   "id": "62fa651a",
   "metadata": {},
   "outputs": [],
   "source": [
    "class Employee:\n",
    "    def __init__(self, name, age, salary, position, department, marital_status):\n",
    "        self.name = name\n",
    "        self.age = age\n",
    "        self.salary = salary\n",
    "        self.position = position\n",
    "        self.department = department\n",
    "        self.marital_status = marital_status\n",
    "        \n",
    "    def add_age(self):\n",
    "        self.age += 1\n",
    "        \n",
    "    def get_age(self):\n",
    "        return \"Age is {}\".format(self.age)"
   ]
  },
  {
   "cell_type": "code",
   "execution_count": 16,
   "id": "e1ab7a38",
   "metadata": {},
   "outputs": [],
   "source": [
    "staff_1 = Employee(\"Kemi\", 25, \"Manager\", 500000, \"Finance\", \"Married\")"
   ]
  },
  {
   "cell_type": "code",
   "execution_count": 17,
   "id": "ebd8f81b",
   "metadata": {},
   "outputs": [
    {
     "data": {
      "text/plain": [
       "'Kemi'"
      ]
     },
     "execution_count": 17,
     "metadata": {},
     "output_type": "execute_result"
    }
   ],
   "source": [
    "staff_1.name"
   ]
  },
  {
   "cell_type": "code",
   "execution_count": 18,
   "id": "75d3ac34",
   "metadata": {},
   "outputs": [],
   "source": [
    "staff_2 = Employee(\"Chris\", 32, \"Associate\", 250000, \"HR\", \"Single\")"
   ]
  },
  {
   "cell_type": "code",
   "execution_count": 19,
   "id": "8a2d6ac2",
   "metadata": {},
   "outputs": [
    {
     "data": {
      "text/plain": [
       "'Chris'"
      ]
     },
     "execution_count": 19,
     "metadata": {},
     "output_type": "execute_result"
    }
   ],
   "source": [
    "staff_2.name"
   ]
  },
  {
   "cell_type": "code",
   "execution_count": 20,
   "id": "d398f215",
   "metadata": {},
   "outputs": [
    {
     "data": {
      "text/plain": [
       "32"
      ]
     },
     "execution_count": 20,
     "metadata": {},
     "output_type": "execute_result"
    }
   ],
   "source": [
    "staff_2.age"
   ]
  },
  {
   "cell_type": "code",
   "execution_count": 23,
   "id": "3cb12c73",
   "metadata": {},
   "outputs": [
    {
     "data": {
      "text/plain": [
       "<bound method Employee.add_age of <__main__.Employee object at 0x000002A764066730>>"
      ]
     },
     "execution_count": 23,
     "metadata": {},
     "output_type": "execute_result"
    }
   ],
   "source": [
    "staff_2.add_age"
   ]
  },
  {
   "cell_type": "code",
   "execution_count": 24,
   "id": "4bcdc4fc",
   "metadata": {},
   "outputs": [
    {
     "data": {
      "text/plain": [
       "33"
      ]
     },
     "execution_count": 24,
     "metadata": {},
     "output_type": "execute_result"
    }
   ],
   "source": [
    "staff_2.age"
   ]
  },
  {
   "cell_type": "code",
   "execution_count": 26,
   "id": "58827cab",
   "metadata": {},
   "outputs": [
    {
     "data": {
      "text/plain": [
       "33"
      ]
     },
     "execution_count": 26,
     "metadata": {},
     "output_type": "execute_result"
    }
   ],
   "source": [
    "staff_2.add_age\n",
    "staff_2.age"
   ]
  },
  {
   "cell_type": "markdown",
   "id": "00e650ef",
   "metadata": {},
   "source": [
    "### Encapsulation"
   ]
  },
  {
   "cell_type": "code",
   "execution_count": 60,
   "id": "e226a178",
   "metadata": {},
   "outputs": [],
   "source": [
    "class Sports:\n",
    "    def __init__(self):\n",
    "        self.__sportsName = \"Soccer\"\n",
    "        \n",
    "    def game(self):\n",
    "        print(\"The game is: {}\".format(self.__sportsName))\n",
    "        \n",
    "    def change_name(self, name):\n",
    "        self.__sportsName = name"
   ]
  },
  {
   "cell_type": "code",
   "execution_count": 56,
   "id": "b8bc29ab",
   "metadata": {},
   "outputs": [
    {
     "name": "stdout",
     "output_type": "stream",
     "text": [
      "The game is: Soccer\n"
     ]
    }
   ],
   "source": [
    "s = Sports()\n",
    "s.game()"
   ]
  },
  {
   "cell_type": "code",
   "execution_count": 57,
   "id": "00a553e5",
   "metadata": {},
   "outputs": [
    {
     "name": "stdout",
     "output_type": "stream",
     "text": [
      "The game is: Soccer\n"
     ]
    }
   ],
   "source": [
    "# changing the sports name\n",
    "s.__sportsName = 'Hockey'\n",
    "s.game()"
   ]
  },
  {
   "cell_type": "code",
   "execution_count": 59,
   "id": "62d783ef",
   "metadata": {},
   "outputs": [
    {
     "name": "stdout",
     "output_type": "stream",
     "text": [
      "The game is: Hockey\n"
     ]
    }
   ],
   "source": [
    "# changing the sports name\n",
    "s.change_name('Hockey')\n",
    "s.game()"
   ]
  },
  {
   "cell_type": "code",
   "execution_count": null,
   "id": "a8a8c434",
   "metadata": {},
   "outputs": [],
   "source": []
  }
 ],
 "metadata": {
  "kernelspec": {
   "display_name": "Python 3 (ipykernel)",
   "language": "python",
   "name": "python3"
  },
  "language_info": {
   "codemirror_mode": {
    "name": "ipython",
    "version": 3
   },
   "file_extension": ".py",
   "mimetype": "text/x-python",
   "name": "python",
   "nbconvert_exporter": "python",
   "pygments_lexer": "ipython3",
   "version": "3.9.12"
  }
 },
 "nbformat": 4,
 "nbformat_minor": 5
}
